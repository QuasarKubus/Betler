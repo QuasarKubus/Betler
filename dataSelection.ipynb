{
 "cells": [
  {
   "cell_type": "code",
   "execution_count": 1,
   "id": "academic-tsunami",
   "metadata": {},
   "outputs": [],
   "source": [
    "import pandas as pd\n",
    "import DataGathering.FileHandling as files\n",
    "import jellyfish"
   ]
  },
  {
   "cell_type": "code",
   "execution_count": 2,
   "id": "voluntary-motivation",
   "metadata": {},
   "outputs": [],
   "source": [
    "def unifyDates(date: str) -> str:\n",
    "    if len(date) == 0:\n",
    "        return \"0000/00/00\"\n",
    "    if \".\" in date:\n",
    "        date = date.split(\".\")\n",
    "    elif \"/\" in date:\n",
    "        date = date.split(\"/\")\n",
    "    if len(date[0]) != 4:\n",
    "        date = date[::-1]\n",
    "    return \"/\".join(date)"
   ]
  },
  {
   "cell_type": "code",
   "execution_count": 3,
   "id": "veterinary-drink",
   "metadata": {},
   "outputs": [],
   "source": [
    "def getSeason(unifiedDate: str) -> str:\n",
    "    ymd = unifiedDate.split(\"/\")\n",
    "    year = int(ymd[0])\n",
    "    month = int(ymd[1])\n",
    "    if month >= 10:\n",
    "        return str(year)+\"/\"+str(year+1)\n",
    "    elif month <= 3:\n",
    "        return str(year-1)+\"/\"+str(year)\n",
    "    else:\n",
    "        return \"Off-Season\""
   ]
  },
  {
   "cell_type": "code",
   "execution_count": 4,
   "id": "geographic-saint",
   "metadata": {},
   "outputs": [],
   "source": [
    "teamNames = files.readFileToList(\"Data/teamNames.txt\")\n",
    "def getClosestTeamName(teamName: str) -> str:\n",
    "    return sorted(teamNames, key=lambda savedName: jellyfish.jaro_similarity(savedName, teamName), reverse=True)[0]"
   ]
  },
  {
   "cell_type": "code",
   "execution_count": 5,
   "id": "average-typing",
   "metadata": {},
   "outputs": [],
   "source": [
    "playerNames = files.readFileToList(\"Data/playerNames.txt\")\n",
    "def getClosestPlayerName(playerName: str) -> str:\n",
    "    closest = sorted(playerNames, key=lambda savedName: jellyfish.levenshtein_distance(savedName, playerName))[0]\n",
    "    similarity = jellyfish.jaro_similarity(closest, playerName)\n",
    "    if similarity > 0.7:\n",
    "        return closest\n",
    "    return \"No Match\""
   ]
  },
  {
   "cell_type": "code",
   "execution_count": 6,
   "id": "deadly-explorer",
   "metadata": {},
   "outputs": [],
   "source": [
    "goodShits = [\"PointsTotal\", \"PointsDelta\", \"ServeTotal\", \"ServeError\", \"ServePoints\", \"ReceptionTotal\", \"ReceptionError\", \"AttackTotal\", \"AttackError\", \"AttackBlocked\", \"AttackPoints\", \"BlockPoints\"]\n",
    "def getPlayersFromTeam(game, teamNumber):\n",
    "    players = {}\n",
    "    for playerNumber in range(1,15):\n",
    "        scores = []\n",
    "        for goodShit in goodShits:\n",
    "            value = game[\"{}Player{}Team{}\".format(goodShit, playerNumber, teamNumber)]\n",
    "            if type(value) == str:\n",
    "                value = 0\n",
    "            scores.append(value)\n",
    "        playerName = game[\"NamePlayer{}Team{}\".format(playerNumber, teamNumber)]\n",
    "        if playerName != \"\":\n",
    "            players[playerName] = scores\n",
    "    return players"
   ]
  },
  {
   "cell_type": "code",
   "execution_count": 7,
   "id": "found-apple",
   "metadata": {},
   "outputs": [],
   "source": [
    "games = []\n",
    "for gameCSVPath in files.getAllFileNamesIn(\"Data/CSVs/\"):\n",
    "    game = files.readGameCSV(gameCSVPath)\n",
    "    games.append(game)"
   ]
  },
  {
   "cell_type": "markdown",
   "id": "competent-gasoline",
   "metadata": {},
   "source": [
    "# GamesOnly"
   ]
  },
  {
   "cell_type": "code",
   "execution_count": 8,
   "id": "critical-wyoming",
   "metadata": {},
   "outputs": [],
   "source": [
    "gamesOnly = pd.DataFrame([], columns = [\"Date\",\"GameID\",\"Season\",\"M/F\",\"Team1\",\"Team2\",\"Score1\",\"Score2\",\n",
    "                                        \"Player1Team1\",\n",
    "                                        \"Player2Team1\",\n",
    "                                        \"Player3Team1\",\n",
    "                                        \"Player4Team1\",\n",
    "                                        \"Player5Team1\",\n",
    "                                        \"Player6Team1\",\n",
    "                                        \"Player7Team1\",\n",
    "                                        \"Player8Team1\",\n",
    "                                        \"Player9Team1\",\n",
    "                                        \"Player10Team1\",\n",
    "                                        \"Player11Team1\",\n",
    "                                        \"Player12Team1\",\n",
    "                                        \"Player13Team1\",\n",
    "                                        \"Player14Team1\"\n",
    "                                        \"Player1Team2\",\n",
    "                                        \"Player2Team2\",\n",
    "                                        \"Player3Team2\",\n",
    "                                        \"Player4Team2\",\n",
    "                                        \"Player5Team2\",\n",
    "                                        \"Player6Team2\",\n",
    "                                        \"Player7Team2\",\n",
    "                                        \"Player8Team2\",\n",
    "                                        \"Player9Team2\",\n",
    "                                        \"Player10Team2\",\n",
    "                                        \"Player11Team2\",\n",
    "                                        \"Player12Team2\",\n",
    "                                        \"Player13Team2\",\n",
    "                                        \"Player14Team2\"])"
   ]
  },
  {
   "cell_type": "code",
   "execution_count": 9,
   "id": "surgical-paris",
   "metadata": {},
   "outputs": [
    {
     "data": {
      "text/html": [
       "<div>\n",
       "<style scoped>\n",
       "    .dataframe tbody tr th:only-of-type {\n",
       "        vertical-align: middle;\n",
       "    }\n",
       "\n",
       "    .dataframe tbody tr th {\n",
       "        vertical-align: top;\n",
       "    }\n",
       "\n",
       "    .dataframe thead th {\n",
       "        text-align: right;\n",
       "    }\n",
       "</style>\n",
       "<table border=\"1\" class=\"dataframe\">\n",
       "  <thead>\n",
       "    <tr style=\"text-align: right;\">\n",
       "      <th></th>\n",
       "      <th>Date</th>\n",
       "      <th>GameID</th>\n",
       "      <th>Season</th>\n",
       "      <th>M/F</th>\n",
       "      <th>Team1</th>\n",
       "      <th>Team2</th>\n",
       "      <th>Score1</th>\n",
       "      <th>Score2</th>\n",
       "      <th>Player1Team1</th>\n",
       "      <th>Player2Team1</th>\n",
       "      <th>...</th>\n",
       "      <th>Player5Team2</th>\n",
       "      <th>Player6Team2</th>\n",
       "      <th>Player7Team2</th>\n",
       "      <th>Player8Team2</th>\n",
       "      <th>Player9Team2</th>\n",
       "      <th>Player10Team2</th>\n",
       "      <th>Player11Team2</th>\n",
       "      <th>Player12Team2</th>\n",
       "      <th>Player13Team2</th>\n",
       "      <th>Player14Team2</th>\n",
       "    </tr>\n",
       "  </thead>\n",
       "  <tbody>\n",
       "  </tbody>\n",
       "</table>\n",
       "<p>0 rows × 35 columns</p>\n",
       "</div>"
      ],
      "text/plain": [
       "Empty DataFrame\n",
       "Columns: [Date, GameID, Season, M/F, Team1, Team2, Score1, Score2, Player1Team1, Player2Team1, Player3Team1, Player4Team1, Player5Team1, Player6Team1, Player7Team1, Player8Team1, Player9Team1, Player10Team1, Player11Team1, Player12Team1, Player13Team1, Player14Team1Player1Team2, Player2Team2, Player3Team2, Player4Team2, Player5Team2, Player6Team2, Player7Team2, Player8Team2, Player9Team2, Player10Team2, Player11Team2, Player12Team2, Player13Team2, Player14Team2]\n",
       "Index: []\n",
       "\n",
       "[0 rows x 35 columns]"
      ]
     },
     "execution_count": 9,
     "metadata": {},
     "output_type": "execute_result"
    }
   ],
   "source": [
    "gamesOnly"
   ]
  },
  {
   "cell_type": "code",
   "execution_count": 10,
   "id": "norwegian-force",
   "metadata": {},
   "outputs": [
    {
     "ename": "KeyError",
     "evalue": "'ServeErrorPlayer1Team2'",
     "output_type": "error",
     "traceback": [
      "\u001b[0;31m---------------------------------------------------------------------------\u001b[0m",
      "\u001b[0;31mKeyError\u001b[0m                                  Traceback (most recent call last)",
      "\u001b[0;32m<ipython-input-10-bb479ea65046>\u001b[0m in \u001b[0;36m<module>\u001b[0;34m\u001b[0m\n\u001b[1;32m     22\u001b[0m     \u001b[0md\u001b[0m\u001b[0;34m[\u001b[0m\u001b[0;34m\"M/F\"\u001b[0m\u001b[0;34m]\u001b[0m \u001b[0;34m=\u001b[0m \u001b[0mmf\u001b[0m\u001b[0;34m\u001b[0m\u001b[0;34m\u001b[0m\u001b[0m\n\u001b[1;32m     23\u001b[0m     \u001b[0mplayersTeam1\u001b[0m \u001b[0;34m=\u001b[0m \u001b[0mlist\u001b[0m\u001b[0;34m(\u001b[0m\u001b[0mgetPlayersFromTeam\u001b[0m\u001b[0;34m(\u001b[0m\u001b[0mgame\u001b[0m\u001b[0;34m,\u001b[0m \u001b[0;36m1\u001b[0m\u001b[0;34m)\u001b[0m\u001b[0;34m.\u001b[0m\u001b[0mkeys\u001b[0m\u001b[0;34m(\u001b[0m\u001b[0;34m)\u001b[0m\u001b[0;34m)\u001b[0m\u001b[0;34m\u001b[0m\u001b[0;34m\u001b[0m\u001b[0m\n\u001b[0;32m---> 24\u001b[0;31m     \u001b[0mplayersTeam2\u001b[0m \u001b[0;34m=\u001b[0m \u001b[0mlist\u001b[0m\u001b[0;34m(\u001b[0m\u001b[0mgetPlayersFromTeam\u001b[0m\u001b[0;34m(\u001b[0m\u001b[0mgame\u001b[0m\u001b[0;34m,\u001b[0m \u001b[0;36m2\u001b[0m\u001b[0;34m)\u001b[0m\u001b[0;34m.\u001b[0m\u001b[0mkeys\u001b[0m\u001b[0;34m(\u001b[0m\u001b[0;34m)\u001b[0m\u001b[0;34m)\u001b[0m\u001b[0;34m\u001b[0m\u001b[0;34m\u001b[0m\u001b[0m\n\u001b[0m\u001b[1;32m     25\u001b[0m     \u001b[0;32mfor\u001b[0m \u001b[0mi\u001b[0m \u001b[0;32min\u001b[0m \u001b[0mrange\u001b[0m\u001b[0;34m(\u001b[0m\u001b[0;36m1\u001b[0m\u001b[0;34m,\u001b[0m \u001b[0;36m15\u001b[0m\u001b[0;34m)\u001b[0m\u001b[0;34m:\u001b[0m\u001b[0;34m\u001b[0m\u001b[0;34m\u001b[0m\u001b[0m\n\u001b[1;32m     26\u001b[0m         \u001b[0mplayer\u001b[0m \u001b[0;34m=\u001b[0m \u001b[0;34m\"-\"\u001b[0m\u001b[0;34m\u001b[0m\u001b[0;34m\u001b[0m\u001b[0m\n",
      "\u001b[0;32m<ipython-input-6-67e4282e67cf>\u001b[0m in \u001b[0;36mgetPlayersFromTeam\u001b[0;34m(game, teamNumber)\u001b[0m\n\u001b[1;32m      5\u001b[0m         \u001b[0mscores\u001b[0m \u001b[0;34m=\u001b[0m \u001b[0;34m[\u001b[0m\u001b[0;34m]\u001b[0m\u001b[0;34m\u001b[0m\u001b[0;34m\u001b[0m\u001b[0m\n\u001b[1;32m      6\u001b[0m         \u001b[0;32mfor\u001b[0m \u001b[0mgoodShit\u001b[0m \u001b[0;32min\u001b[0m \u001b[0mgoodShits\u001b[0m\u001b[0;34m:\u001b[0m\u001b[0;34m\u001b[0m\u001b[0;34m\u001b[0m\u001b[0m\n\u001b[0;32m----> 7\u001b[0;31m             \u001b[0mvalue\u001b[0m \u001b[0;34m=\u001b[0m \u001b[0mgame\u001b[0m\u001b[0;34m[\u001b[0m\u001b[0;34m\"{}Player{}Team{}\"\u001b[0m\u001b[0;34m.\u001b[0m\u001b[0mformat\u001b[0m\u001b[0;34m(\u001b[0m\u001b[0mgoodShit\u001b[0m\u001b[0;34m,\u001b[0m \u001b[0mplayerNumber\u001b[0m\u001b[0;34m,\u001b[0m \u001b[0mteamNumber\u001b[0m\u001b[0;34m)\u001b[0m\u001b[0;34m]\u001b[0m\u001b[0;34m\u001b[0m\u001b[0;34m\u001b[0m\u001b[0m\n\u001b[0m\u001b[1;32m      8\u001b[0m             \u001b[0;32mif\u001b[0m \u001b[0mtype\u001b[0m\u001b[0;34m(\u001b[0m\u001b[0mvalue\u001b[0m\u001b[0;34m)\u001b[0m \u001b[0;34m==\u001b[0m \u001b[0mstr\u001b[0m\u001b[0;34m:\u001b[0m\u001b[0;34m\u001b[0m\u001b[0;34m\u001b[0m\u001b[0m\n\u001b[1;32m      9\u001b[0m                 \u001b[0mvalue\u001b[0m \u001b[0;34m=\u001b[0m \u001b[0;36m0\u001b[0m\u001b[0;34m\u001b[0m\u001b[0;34m\u001b[0m\u001b[0m\n",
      "\u001b[0;31mKeyError\u001b[0m: 'ServeErrorPlayer1Team2'"
     ]
    }
   ],
   "source": [
    "for game in games:\n",
    "    d = {}\n",
    "    date = unifyDates(game[\"Date\"])\n",
    "    d[\"Date\"] = date\n",
    "    gameID = game[\"MatchNumber\"]\n",
    "    d[\"GameID\"] = gameID\n",
    "    season = getSeason(date)\n",
    "    d[\"Season\"] = season\n",
    "    team1 = getClosestTeamName(game[\"NameTeam1\"])\n",
    "    team2 = getClosestTeamName(game[\"NameTeam2\"])\n",
    "    d[\"Team1\"] = team1\n",
    "    d[\"Team2\"] = team2\n",
    "    score1 = int(game[\"ScoreTeam1\"])\n",
    "    score2 = int(game[\"ScoreTeam2\"])\n",
    "    d[\"Score1\"] = score1\n",
    "    d[\"Score2\"] = score2\n",
    "    mf = \"-\"\n",
    "    if \"Män\" in game[\"League\"]:\n",
    "        mf = \"M\"\n",
    "    elif \"Fra\" in game[\"League\"]:\n",
    "        mf = \"F\"\n",
    "    d[\"M/F\"] = mf\n",
    "    playersTeam1 = list(getPlayersFromTeam(game, 1).keys())\n",
    "    playersTeam2 = list(getPlayersFromTeam(game, 2).keys())\n",
    "    for i in range(1, 15):\n",
    "        player = \"-\"\n",
    "        if len(playersTeam1) > i:\n",
    "            player = playersTeam1[i-1]\n",
    "            player = getClosestPlayerName(player)\n",
    "        d[\"Player{}Team1\".format(i)] = player\n",
    "    for i in range(1, 15):\n",
    "        player = \"-\"\n",
    "        if len(playersTeam2) >= i:\n",
    "            player = playersTeam2[i-1]\n",
    "            player = getClosestPlayerName(player)\n",
    "        d[\"Player{}Team2\".format(i)] = player\n",
    "        \n",
    "    gamesOnly = gamesOnly.append(d, ignore_index=True)"
   ]
  },
  {
   "cell_type": "code",
   "execution_count": null,
   "id": "sporting-bermuda",
   "metadata": {
    "scrolled": true
   },
   "outputs": [],
   "source": [
    "gamesOnly"
   ]
  },
  {
   "cell_type": "markdown",
   "id": "instant-wound",
   "metadata": {},
   "source": [
    "# Players"
   ]
  },
  {
   "cell_type": "code",
   "execution_count": null,
   "id": "racial-algebra",
   "metadata": {},
   "outputs": [],
   "source": [
    "playerStatsPerGame = pd.DataFrame([], columns = [\"PlayerName\",\"M/F\",\"PlayerTeam\",\"OpposingTeam\",\"Score1\",\"Score2\",\"Date\",\"GameID\",\"Season\",\"PointsTotal\", \"PointsDelta\", \"ServeTotal\", \"ServeError\", \"ServePoints\", \"ReceptionTotal\", \"ReceptionError\", \"AttackTotal\", \"AttackError\", \"AttackBlocked\", \"AttackPoints\", \"BlockPoints\"])"
   ]
  },
  {
   "cell_type": "code",
   "execution_count": null,
   "id": "endless-society",
   "metadata": {},
   "outputs": [],
   "source": [
    "for game in games:\n",
    "    date = unifyDates(game[\"Date\"])\n",
    "    gameID = game[\"MatchNumber\"]\n",
    "    season = getSeason(date)\n",
    "    team1 = getClosestTeamName(game[\"NameTeam1\"])\n",
    "    team2 = getClosestTeamName(game[\"NameTeam2\"])\n",
    "    score1 = int(game[\"ScoreTeam1\"])\n",
    "    score2 = int(game[\"ScoreTeam2\"])\n",
    "    mf = \"-\"\n",
    "    if \"Män\" in game[\"League\"]:\n",
    "        mf = \"M\"\n",
    "    elif \"Fra\" in game[\"League\"]:\n",
    "        mf = \"F\"\n",
    "    playersTeam1 = getPlayersFromTeam(game, 1)\n",
    "    playersTeam2 = getPlayersFromTeam(game, 2)\n",
    "    for playerName, stats in playersTeam1.items():\n",
    "        playerName = getClosestPlayerName(playerName)\n",
    "        row = {\"PlayerName\":playerName,\n",
    "               \"M/F\":mf,\n",
    "               \"PlayerTeam\":team1,\n",
    "               \"OpposingTeam\":team2,\n",
    "               \"Score1\":score1,\n",
    "               \"Score2\":score2,\n",
    "               \"Date\":date,\n",
    "               \"GameID\":gameID,\n",
    "               \"Season\":season,\n",
    "               \"PointsTotal\":stats[0],\n",
    "               \"PointsDelta\":stats[1],\n",
    "               \"ServeTotal\":stats[2],\n",
    "               \"ServeError\":stats[3],\n",
    "               \"ServePoints\":stats[4],\n",
    "               \"ReceptionTotal\":stats[5],\n",
    "               \"ReceptionError\":stats[6],\n",
    "               \"AttackTotal\":stats[7],\n",
    "               \"AttackError\":stats[8],\n",
    "               \"AttackBlocked\":stats[9],\n",
    "               \"AttackPoints\":stats[10],\n",
    "                \"BlockPoints\":stats[11]}\n",
    "        playerStatsPerGame = playerStatsPerGame.append(row, ignore_index=True)\n",
    "        \n",
    "    for playerName, stats in playersTeam2.items():\n",
    "        playerName = getClosestPlayerName(playerName)\n",
    "        row = {\"PlayerName\":playerName,\n",
    "               \"M/F\":mf,\n",
    "               \"PlayerTeam\":team2,\n",
    "               \"OpposingTeam\":team1,\n",
    "               \"Score1\":score2,\n",
    "               \"Score2\":score1,\n",
    "               \"Date\":date,\n",
    "               \"GameID\":gameID,\n",
    "               \"Season\":season,\n",
    "               \"PointsTotal\":stats[0],\n",
    "               \"PointsDelta\":stats[1],\n",
    "               \"ServeTotal\":stats[2],\n",
    "               \"ServeError\":stats[3],\n",
    "               \"ServePoints\":stats[4],\n",
    "               \"ReceptionTotal\":stats[5],\n",
    "               \"ReceptionError\":stats[6],\n",
    "               \"AttackTotal\":stats[7],\n",
    "               \"AttackError\":stats[8],\n",
    "               \"AttackBlocked\":stats[9],\n",
    "               \"AttackPoints\":stats[10],\n",
    "                \"BlockPoints\":stats[11]}\n",
    "        playerStatsPerGame = playerStatsPerGame.append(row, ignore_index=True)\n",
    "        "
   ]
  },
  {
   "cell_type": "code",
   "execution_count": null,
   "id": "fresh-zimbabwe",
   "metadata": {
    "scrolled": true
   },
   "outputs": [],
   "source": [
    "playerStatsPerGame"
   ]
  },
  {
   "cell_type": "code",
   "execution_count": null,
   "id": "renewable-freight",
   "metadata": {
    "scrolled": true
   },
   "outputs": [],
   "source": [
    "playerStatsPerGame[playerStatsPerGame[\"PlayerName\"] == \"Grankin Sergey\"]"
   ]
  },
  {
   "cell_type": "code",
   "execution_count": null,
   "id": "centered-tunisia",
   "metadata": {},
   "outputs": [],
   "source": [
    "playersStatsPerSet = pd.DataFrame([], columns=[\"PlayerName\", \"M/F\", \"PlayerTeam\", \"PointsTotal\", \"PointsDelta\", \"ServeTotal\", \"ServeError\", \"ServePoints\", \"ReceptionTotal\", \"ReceptionError\", \"AttackTotal\", \"AttackError\", \"AttackBlocked\", \"AttackPoints\", \"BlockPoints\"])"
   ]
  },
  {
   "cell_type": "code",
   "execution_count": null,
   "id": "historical-spotlight",
   "metadata": {},
   "outputs": [],
   "source": [
    "playersStatsPerSet"
   ]
  },
  {
   "cell_type": "code",
   "execution_count": null,
   "id": "enabling-profile",
   "metadata": {},
   "outputs": [],
   "source": [
    "values = [\"PointsTotal\", \"PointsDelta\", \"ServeTotal\", \"ServeError\", \"ServePoints\", \"ReceptionTotal\", \"ReceptionError\", \"AttackTotal\", \"AttackError\", \"AttackBlocked\", \"AttackPoints\", \"BlockPoints\"]"
   ]
  },
  {
   "cell_type": "code",
   "execution_count": null,
   "id": "excellent-genealogy",
   "metadata": {},
   "outputs": [],
   "source": [
    "for playerName in playerNames:\n",
    "    d = {}\n",
    "    d[\"PlayerName\"] = playerName\n",
    "    allStatsOfPlayer = playerStatsPerGame[playerStatsPerGame[\"PlayerName\"] == playerName]\n",
    "    if allStatsOfPlayer.size == 0:\n",
    "        continue\n",
    "    mf = allStatsOfPlayer.iloc[0][\"M/F\"]\n",
    "    d[\"M/F\"] = mf\n",
    "    thisSeasonStats = allStatsOfPlayer[allStatsOfPlayer[\"Season\"] == \"2020/2021\"]\n",
    "    if thisSeasonStats.size == 0:\n",
    "        continue\n",
    "    team = thisSeasonStats.iloc[0][\"PlayerTeam\"].replace('\"', '')\n",
    "    d[\"PlayerTeam\"] = team\n",
    "    playerTeamScoreSum = allStatsOfPlayer[\"Score1\"].sum()\n",
    "    opposingTeamsScoreSum = allStatsOfPlayer[\"Score2\"].sum()\n",
    "    for value in values:\n",
    "        s = allStatsOfPlayer[value].sum()\n",
    "        d[value] = s / (playerTeamScoreSum+opposingTeamsScoreSum)\n",
    "    playersStatsPerSet = playersStatsPerSet.append(d, ignore_index=True)"
   ]
  },
  {
   "cell_type": "code",
   "execution_count": null,
   "id": "preceding-lafayette",
   "metadata": {},
   "outputs": [],
   "source": [
    "playersStatsPerSet"
   ]
  },
  {
   "cell_type": "code",
   "execution_count": null,
   "id": "hydraulic-harmony",
   "metadata": {},
   "outputs": [],
   "source": [
    "playersStatsPerSet.to_csv('PlayerPerformances.csv')\n",
    "playersStatsPerSet.to_excel(\"PlayerPerformances.xlsx\")"
   ]
  },
  {
   "cell_type": "markdown",
   "id": "broad-bunch",
   "metadata": {},
   "source": [
    "# Learning"
   ]
  },
  {
   "cell_type": "code",
   "execution_count": null,
   "id": "modern-excess",
   "metadata": {},
   "outputs": [],
   "source": [
    "import numpy as np\n",
    "from sklearn.linear_model import LogisticRegression\n",
    "from sklearn.linear_model import LinearRegression\n",
    "from sklearn.ensemble import RandomForestClassifier\n",
    "from sklearn.ensemble import RandomForestRegressor"
   ]
  },
  {
   "cell_type": "code",
   "execution_count": null,
   "id": "collect-relation",
   "metadata": {},
   "outputs": [],
   "source": [
    "def unison_shuffled_copies(a, b):\n",
    "    assert len(a) == len(b)\n",
    "    p = np.random.permutation(len(a))\n",
    "    return a[p], b[p]"
   ]
  },
  {
   "cell_type": "code",
   "execution_count": null,
   "id": "spiritual-plant",
   "metadata": {},
   "outputs": [],
   "source": [
    "winOrLose = lambda val: 1 if val > 0.5 else 0"
   ]
  },
  {
   "cell_type": "code",
   "execution_count": null,
   "id": "regular-valuation",
   "metadata": {},
   "outputs": [],
   "source": [
    "gamesOnly"
   ]
  },
  {
   "cell_type": "code",
   "execution_count": null,
   "id": "interim-toyota",
   "metadata": {},
   "outputs": [],
   "source": [
    "Y = gamesOnly[\"Score1\"].to_numpy() / (gamesOnly[\"Score1\"].to_numpy() + gamesOnly[\"Score2\"].to_numpy())"
   ]
  },
  {
   "cell_type": "code",
   "execution_count": null,
   "id": "great-separation",
   "metadata": {},
   "outputs": [],
   "source": [
    "X = []\n",
    "for i in range(0, gamesOnly.shape[0]):\n",
    "    game = gamesOnly.iloc[i]\n",
    "    dataPoint = np.zeros((2,12))\n",
    "    for teamNumber in range(1,3):\n",
    "        teamStrength = np.zeros((1,12))\n",
    "        playerCounter = 0\n",
    "        for playerNumber in range(1,15):\n",
    "            playerNTeamMName = game[\"Player{}Team{}\".format(playerNumber, teamNumber)]\n",
    "            if playerNTeamMName == \"-\":\n",
    "                continue\n",
    "            playerStrength = playersStatsPerSet[playersStatsPerSet[\"PlayerName\"] == playerNTeamMName].drop([\"PlayerName\", \"M/F\", \"PlayerTeam\"], axis=1)\n",
    "            playerStrength = playerStrength.to_numpy()\n",
    "            if np.size(playerStrength, 0) == 0:\n",
    "                continue\n",
    "            playerCounter += 1\n",
    "            teamStrength += playerStrength\n",
    "        dataPoint[teamNumber-1] = teamStrength / playerCounter\n",
    "    X.append(dataPoint.flatten())"
   ]
  },
  {
   "cell_type": "code",
   "execution_count": null,
   "id": "signed-price",
   "metadata": {},
   "outputs": [],
   "source": [
    "Y.shape"
   ]
  },
  {
   "cell_type": "code",
   "execution_count": null,
   "id": "valid-claim",
   "metadata": {},
   "outputs": [],
   "source": [
    "Y = Y.astype(float)"
   ]
  },
  {
   "cell_type": "code",
   "execution_count": null,
   "id": "expired-virgin",
   "metadata": {},
   "outputs": [],
   "source": [
    "X = np.array(X)"
   ]
  },
  {
   "cell_type": "code",
   "execution_count": null,
   "id": "incident-cause",
   "metadata": {},
   "outputs": [],
   "source": [
    "X.shape"
   ]
  },
  {
   "cell_type": "code",
   "execution_count": null,
   "id": "cooked-circular",
   "metadata": {
    "scrolled": false
   },
   "outputs": [],
   "source": [
    "X"
   ]
  },
  {
   "cell_type": "code",
   "execution_count": null,
   "id": "damaged-allowance",
   "metadata": {},
   "outputs": [],
   "source": [
    "X, Y = unison_shuffled_copies(X, Y)"
   ]
  },
  {
   "cell_type": "code",
   "execution_count": null,
   "id": "stylish-swimming",
   "metadata": {},
   "outputs": [],
   "source": [
    "# needed for classifiers\n",
    "#Y = np.array([winOrLose(p) for p in Y]).astype(int)"
   ]
  },
  {
   "cell_type": "code",
   "execution_count": null,
   "id": "simple-canal",
   "metadata": {},
   "outputs": [],
   "source": [
    "ind = int(X.shape[0] * 1)"
   ]
  },
  {
   "cell_type": "code",
   "execution_count": null,
   "id": "adolescent-cricket",
   "metadata": {},
   "outputs": [],
   "source": [
    "X_train = X[:ind]\n",
    "Y_train = Y[:ind]\n",
    "X_test = X[ind:]\n",
    "Y_test = Y[ind:]"
   ]
  },
  {
   "cell_type": "code",
   "execution_count": null,
   "id": "posted-result",
   "metadata": {},
   "outputs": [],
   "source": [
    "if X_test.size == 0:\n",
    "    X_test = X\n",
    "    Y_test = Y"
   ]
  },
  {
   "cell_type": "code",
   "execution_count": null,
   "id": "developmental-addiction",
   "metadata": {},
   "outputs": [],
   "source": [
    "lin_reg = LinearRegression()\n",
    "#log_reg = LogisticRegression()\n",
    "#rndF_clf = RandomForestClassifier(max_depth=2)\n",
    "#rndF_reg = RandomForestRegressor(n_estimators=300, max_depth=2)\n",
    "\n",
    "model = lin_reg\n",
    "model.fit(X_train, Y_train) "
   ]
  },
  {
   "cell_type": "code",
   "execution_count": null,
   "id": "common-hammer",
   "metadata": {},
   "outputs": [],
   "source": [
    "def predict(nameTeam1, nameTeam2):\n",
    "    playersTeam1 = playersStatsPerSet[playersStatsPerSet[\"PlayerTeam\"] == nameTeam1]\n",
    "    playersTeam2 = playersStatsPerSet[playersStatsPerSet[\"PlayerTeam\"] == nameTeam2]\n",
    "    teamStrength1 = playersTeam1.drop([\"PlayerName\" ,\"M/F\", \"PlayerTeam\"], axis = 1).sum(axis=0).to_numpy() / playersTeam1.shape[0]\n",
    "    teamStrength2 = playersTeam2.drop([\"PlayerName\" ,\"M/F\", \"PlayerTeam\"], axis = 1).sum(axis=0).to_numpy() / playersTeam2.shape[0]\n",
    "    X = np.concatenate((teamStrength1, teamStrength2))\n",
    "    return model.predict([X])"
   ]
  },
  {
   "cell_type": "code",
   "execution_count": null,
   "id": "mental-signature",
   "metadata": {},
   "outputs": [],
   "source": [
    "predict(\"BERLIN RECYCLING Volleys\", \"VfB Friedrichshafen\")"
   ]
  },
  {
   "cell_type": "code",
   "execution_count": null,
   "id": "artificial-salmon",
   "metadata": {},
   "outputs": [],
   "source": [
    "pred = model.predict(X_test)"
   ]
  },
  {
   "cell_type": "code",
   "execution_count": null,
   "id": "similar-illustration",
   "metadata": {},
   "outputs": [],
   "source": [
    "pred = np.array([winOrLose(p) for p in pred])\n",
    "real = np.array([winOrLose(p) for p in Y_test])"
   ]
  },
  {
   "cell_type": "markdown",
   "id": "thorough-grass",
   "metadata": {},
   "source": [
    "# n of theoretical correct predictions"
   ]
  },
  {
   "cell_type": "code",
   "execution_count": null,
   "id": "caring-advantage",
   "metadata": {},
   "outputs": [],
   "source": [
    "corr = np.sum(pred == real)\n",
    "print(corr)"
   ]
  },
  {
   "cell_type": "markdown",
   "id": "loving-daughter",
   "metadata": {},
   "source": [
    "# n of false predictions"
   ]
  },
  {
   "cell_type": "code",
   "execution_count": null,
   "id": "ongoing-botswana",
   "metadata": {},
   "outputs": [],
   "source": [
    "fal = real.shape[0] - corr\n",
    "print(fal)"
   ]
  },
  {
   "cell_type": "code",
   "execution_count": null,
   "id": "personalized-morrison",
   "metadata": {},
   "outputs": [],
   "source": [
    "real.shape[0]"
   ]
  },
  {
   "cell_type": "markdown",
   "id": "delayed-possibility",
   "metadata": {},
   "source": [
    "# Predictor"
   ]
  },
  {
   "cell_type": "code",
   "execution_count": null,
   "id": "executive-workplace",
   "metadata": {},
   "outputs": [],
   "source": [
    "team1 = \"Dresdner SC\"\n",
    "team2 = \"VC Wiesbaden\"\n",
    "oddOnTeam1Win = 1.01\n",
    "oddOnTeam2Win = 6.25\n",
    "capital = 50"
   ]
  },
  {
   "cell_type": "code",
   "execution_count": null,
   "id": "innocent-warehouse",
   "metadata": {},
   "outputs": [],
   "source": [
    "prediction = predict(team1, team2)[0]\n",
    "print(prediction)"
   ]
  },
  {
   "cell_type": "code",
   "execution_count": null,
   "id": "alive-packing",
   "metadata": {},
   "outputs": [],
   "source": [
    "betAmountOnTeam1 = ((prediction*oddOnTeam1Win - (1-prediction))/oddOnTeam1Win)*capital\n",
    "prediction = 1 - prediction\n",
    "betAmountOnTeam2 = ((prediction*oddOnTeam2Win - (1-prediction))/oddOnTeam2Win)*capital"
   ]
  },
  {
   "cell_type": "code",
   "execution_count": null,
   "id": "surrounded-thomas",
   "metadata": {},
   "outputs": [],
   "source": [
    "print(\"Recommended Amount on\", team1, np.round(betAmountOnTeam1,2), \"€\")\n",
    "print(\"Recommended Amount on\", team2, np.round(betAmountOnTeam2,2), \"€\")"
   ]
  },
  {
   "cell_type": "code",
   "execution_count": null,
   "id": "motivated-windows",
   "metadata": {},
   "outputs": [],
   "source": [
    "expectedOnTeam1 = (betAmountOnTeam1 * oddOnTeam1Win *(1-prediction) - betAmountOnTeam1 * prediction) - 0.6\n",
    "expectedOnTeam2 = (betAmountOnTeam2 * oddOnTeam2Win *prediction - betAmountOnTeam2 * (1-prediction)) - 0.6"
   ]
  },
  {
   "cell_type": "code",
   "execution_count": null,
   "id": "behind-pointer",
   "metadata": {
    "scrolled": true
   },
   "outputs": [],
   "source": [
    "print(\"Expected Delta on\", team1,\"is\", np.round(expectedOnTeam1, 2), \"€\")\n",
    "print(\"Expected Delta on\", team2,\"is\", np.round(expectedOnTeam2, 2), \"€\")"
   ]
  },
  {
   "cell_type": "markdown",
   "id": "thousand-amsterdam",
   "metadata": {},
   "source": [
    "# Betting Excel Sheet"
   ]
  },
  {
   "cell_type": "code",
   "execution_count": null,
   "id": "vital-shuttle",
   "metadata": {},
   "outputs": [],
   "source": [
    "gamePlanMale = pd.read_excel(\"SpielPlanM.xlsx\")\n",
    "gamePlanFemale = pd.read_excel(\"SpielPlanF.xlsx\")"
   ]
  },
  {
   "cell_type": "code",
   "execution_count": null,
   "id": "technical-wrist",
   "metadata": {
    "scrolled": true
   },
   "outputs": [],
   "source": [
    "gamePlanMale.columns"
   ]
  },
  {
   "cell_type": "code",
   "execution_count": null,
   "id": "paperback-friendly",
   "metadata": {},
   "outputs": [],
   "source": [
    "toDrop = ['Uhrzeit', 'Wochentag', 'ST',\n",
    "          'Gastgeber', 'Austragungsort/Ergebnis',\n",
    "          'Austragungsort', 'Ergebnis', 'Saison', 'Spielrunde', 'Geschlecht',\n",
    "          'Satzpunkte', 'Ballpunkte', 'Spieldauer', 'Zuschauerzahl',\n",
    "          'Satzpunkte 1', ':', 'Satzpunkte 2', 'Satz 1 - Ballpunkte 1', ':.1',\n",
    "          'Satz 1 - Ballpunkte 2', 'Satz 1 - Satzdauer', 'Satz 2 - Ballpunkte 1',\n",
    "          ':.2', 'Satz 2 - Ballpunkte 2', 'Satz 2 - Satzdauer',\n",
    "          'Satz 3 - Ballpunkte 1', ':.3', 'Satz 3 - Ballpunkte 2',\n",
    "          'Satz 3 - Satzdauer', 'Satz 4 - Ballpunkte 1', ':.4',\n",
    "          'Satz 4 - Ballpunkte 2', 'Satz 4 - Satzdauer', 'Satz 5 - Ballpunkte 1',\n",
    "          ':.5', 'Satz 5 - Ballpunkte 2', 'Satz 5 - Satzdauer']"
   ]
  },
  {
   "cell_type": "code",
   "execution_count": null,
   "id": "ancient-collins",
   "metadata": {
    "scrolled": false
   },
   "outputs": [],
   "source": [
    "gamePlanMale = gamePlanMale.drop(toDrop, axis = 1)\n",
    "gamePlanFemale = gamePlanFemale.drop(toDrop, axis = 1)"
   ]
  },
  {
   "cell_type": "code",
   "execution_count": null,
   "id": "complimentary-optics",
   "metadata": {},
   "outputs": [],
   "source": [
    "gamePlanMale = gamePlanMale.astype(str)\n",
    "gamePlanFemale = gamePlanFemale.astype(str)"
   ]
  },
  {
   "cell_type": "code",
   "execution_count": null,
   "id": "stuffed-vegetarian",
   "metadata": {},
   "outputs": [],
   "source": [
    "gamePlanMale[\"Vorhersage\"] = 0\n",
    "gamePlanFemale[\"Vorhersage\"] = 0"
   ]
  },
  {
   "cell_type": "code",
   "execution_count": null,
   "id": "greater-richards",
   "metadata": {},
   "outputs": [],
   "source": [
    "gamePlanMale.columns"
   ]
  },
  {
   "cell_type": "code",
   "execution_count": null,
   "id": "coordinated-navigation",
   "metadata": {},
   "outputs": [],
   "source": [
    "for indx in range(0, gamePlanMale.shape[0]):\n",
    "    row = gamePlanMale.loc[indx]\n",
    "    print(row)\n",
    "    team1 = getClosestTeamName(row['Mannschaft 1'])\n",
    "    team2 = getClosestTeamName(row['Mannschaft 2'])\n",
    "    prediction = predict(team1, team2)\n",
    "    gamePlanMale.at[indx, [\"Vorhersage\"]] = prediction\n",
    "    \n",
    "for indx in range(0, gamePlanFemale.shape[0]):\n",
    "    row = gamePlanFemale.loc[indx]\n",
    "    team1 = getClosestTeamName(row['Mannschaft 1'])\n",
    "    team2 = getClosestTeamName(row['Mannschaft 2'])\n",
    "    prediction = predict(team1, team2)[0]\n",
    "    gamePlanFemale.at[indx, [\"Vorhersage\"]] = prediction\n",
    "    "
   ]
  },
  {
   "cell_type": "code",
   "execution_count": null,
   "id": "owned-construction",
   "metadata": {},
   "outputs": [],
   "source": []
  }
 ],
 "metadata": {
  "kernelspec": {
   "display_name": "Python 3",
   "language": "python",
   "name": "python3"
  },
  "language_info": {
   "codemirror_mode": {
    "name": "ipython",
    "version": 3
   },
   "file_extension": ".py",
   "mimetype": "text/x-python",
   "name": "python",
   "nbconvert_exporter": "python",
   "pygments_lexer": "ipython3",
   "version": "3.8.5"
  }
 },
 "nbformat": 4,
 "nbformat_minor": 5
}
